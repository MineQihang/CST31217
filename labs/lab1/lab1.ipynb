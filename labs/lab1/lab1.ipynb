{
 "cells": [
  {
   "cell_type": "markdown",
   "metadata": {},
   "source": [
    "# 《数值计算与最优化》第一次实验"
   ]
  },
  {
   "cell_type": "code",
   "execution_count": 1,
   "metadata": {},
   "outputs": [],
   "source": [
    "import numpy as np\n",
    "from scipy.optimize import fsolve"
   ]
  },
  {
   "cell_type": "markdown",
   "metadata": {},
   "source": [
    "## 1. 列主元法求解线性方程组"
   ]
  },
  {
   "cell_type": "code",
   "execution_count": 2,
   "metadata": {},
   "outputs": [],
   "source": [
    "def solve_by_column_pivoting(A, b):\n",
    "    # TODO: 请修改此函数的实现，使用列主元高斯消元法求解方程组\n",
    "    return np.linalg.solve(A, b)"
   ]
  },
  {
   "cell_type": "code",
   "execution_count": 3,
   "metadata": {},
   "outputs": [
    {
     "name": "stdout",
     "output_type": "stream",
     "text": [
      "计算结果：x = [1. 1. 1. 1.]\n"
     ]
    }
   ],
   "source": [
    "A = np.array([[1.1348, 3.8326, 1.1651, 3.4017], \n",
    "              [0.5301, 1.7875, 2.5330, 1.5435], \n",
    "              [3.4129, 4.9317, 8.7643, 1.3142],\n",
    "              [1.2371, 4.9998, 10.6721, 0.0147]])\n",
    "b = np.array([9.5342, 6.3941, 18.4231, 16.9237])\n",
    "x = solve_by_column_pivoting(A, b)\n",
    "print(\"计算结果：x =\", x)"
   ]
  },
  {
   "cell_type": "code",
   "execution_count": 4,
   "metadata": {},
   "outputs": [
    {
     "data": {
      "text/plain": [
       "array([ 9.5342,  6.3941, 18.4231, 16.9237])"
      ]
     },
     "execution_count": 4,
     "metadata": {},
     "output_type": "execute_result"
    }
   ],
   "source": [
    "# 检验是否计算正确，检查Ax=b\n",
    "A @ x"
   ]
  },
  {
   "cell_type": "markdown",
   "metadata": {},
   "source": [
    "## 2. 雅可比迭代法或高斯-赛德尔迭代法求解线性方程组"
   ]
  },
  {
   "cell_type": "code",
   "execution_count": 5,
   "metadata": {},
   "outputs": [],
   "source": [
    "# 请选择一种实现即可\n",
    "\n",
    "def solve_by_jacobi_iteration(A, b, max_iter=1000, tol=1e-6): # 可以根据需要增加参数\n",
    "    # TODO: 请修改此函数的实现，使用Jacobi迭代法求解方程组\n",
    "    return np.linalg.solve(A, b)\n",
    "\n",
    "def solve_by_gauss_seidel_iteration(A, b, max_iter=1000, tol=1e-6): # 可以根据需要增加参数\n",
    "    # TODO: 请修改此函数的实现，使用Gauss-Seidel迭代法求解方程组\n",
    "    return np.linalg.solve(A, b)"
   ]
  },
  {
   "cell_type": "code",
   "execution_count": 6,
   "metadata": {},
   "outputs": [
    {
     "name": "stdout",
     "output_type": "stream",
     "text": [
      "计算结果：x = [1.1 1.2 1.3]\n"
     ]
    }
   ],
   "source": [
    "A = np.array([[10, -1, -2],\n",
    "              [-1, 10, -2],\n",
    "              [-1, -1, 5]])\n",
    "b = np.array([7.2, 8.3, 4.2])\n",
    "x = solve_by_jacobi_iteration(A, b) # 或者 solve_by_gauss_seidel_iteration(A, b)\n",
    "print(\"计算结果：x =\", x)"
   ]
  },
  {
   "cell_type": "code",
   "execution_count": 7,
   "metadata": {},
   "outputs": [
    {
     "data": {
      "text/plain": [
       "array([7.2, 8.3, 4.2])"
      ]
     },
     "execution_count": 7,
     "metadata": {},
     "output_type": "execute_result"
    }
   ],
   "source": [
    "# 检验是否计算正确，检查Ax=b\n",
    "A @ x"
   ]
  },
  {
   "cell_type": "markdown",
   "metadata": {},
   "source": [
    "## 3. 非线性方程求根算法"
   ]
  },
  {
   "cell_type": "code",
   "execution_count": 8,
   "metadata": {},
   "outputs": [],
   "source": [
    "# TODO: 分析题目得出非线性方程的形式f(h)=0\n",
    "r = 10\n",
    "rho = 0.638\n",
    "f = lambda h: h ** 2 - 2 # 请替换为实际的非线性方程"
   ]
  },
  {
   "cell_type": "code",
   "execution_count": 9,
   "metadata": {},
   "outputs": [],
   "source": [
    "# 请选择二分法，牛顿迭代法和割线法的其中一种求解上述非线性方程\n",
    "\n",
    "def solve_by_bisection(f, a, b, tol=1e-6): # 可以根据需要增加参数\n",
    "    # TODO: 请修改此函数的实现，使用二分法求解非线性方程\n",
    "    return fsolve(f, (a + b) / 2)[0]\n",
    "\n",
    "def solve_by_newton_iteration(f, df, x0, tol=1e-6): # 可以根据需要增加参数\n",
    "    # TODO: 请修改此函数的实现，使用牛顿迭代法求解非线性方程\n",
    "    return fsolve(f, x0)[0]\n",
    "\n",
    "def solve_by_secant_method(f, x0, x1, tol=1e-6): # 可以根据需要增加参数\n",
    "    # TODO: 请修改此函数的实现，使用割线法求解非线性方程\n",
    "    return fsolve(f, x1)[0]"
   ]
  },
  {
   "cell_type": "code",
   "execution_count": 10,
   "metadata": {},
   "outputs": [
    {
     "name": "stdout",
     "output_type": "stream",
     "text": [
      "计算结果：h = 1.4142135623730947\n",
      "浸入水中的深度为多少： 18.585786437626904\n"
     ]
    }
   ],
   "source": [
    "# TODO: 调用上述函数求解非线性方程，注意自行确定初始值或初始区间\n",
    "h = solve_by_bisection(f, 0, 2) # 或者 solve_by_newton_iteration 或者 solve_by_secant_method\n",
    "print(\"计算结果：h =\", h)\n",
    "print(\"浸入水中的深度为多少：\", 2 * r - h)"
   ]
  },
  {
   "cell_type": "code",
   "execution_count": 11,
   "metadata": {},
   "outputs": [
    {
     "data": {
      "text/plain": [
       "-8.881784197001252e-16"
      ]
     },
     "execution_count": 11,
     "metadata": {},
     "output_type": "execute_result"
    }
   ],
   "source": [
    "# 检验是否计算正确，检查f(ans)=0\n",
    "f(h)"
   ]
  },
  {
   "cell_type": "code",
   "execution_count": null,
   "metadata": {},
   "outputs": [],
   "source": []
  }
 ],
 "metadata": {
  "kernelspec": {
   "display_name": "base",
   "language": "python",
   "name": "python3"
  },
  "language_info": {
   "codemirror_mode": {
    "name": "ipython",
    "version": 3
   },
   "file_extension": ".py",
   "mimetype": "text/x-python",
   "name": "python",
   "nbconvert_exporter": "python",
   "pygments_lexer": "ipython3",
   "version": "3.9.13"
  }
 },
 "nbformat": 4,
 "nbformat_minor": 2
}
